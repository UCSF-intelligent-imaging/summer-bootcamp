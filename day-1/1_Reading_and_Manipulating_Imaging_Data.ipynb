{
  "nbformat": 4,
  "nbformat_minor": 0,
  "metadata": {
    "colab": {
      "name": "1. Reading and Manipulating Imaging Data.ipynb",
      "provenance": [],
      "collapsed_sections": [],
      "toc_visible": true
    },
    "kernelspec": {
      "name": "python3",
      "display_name": "Python 3"
    },
    "language_info": {
      "name": "python"
    }
  },
  "cells": [
    {
      "cell_type": "markdown",
      "metadata": {
        "id": "kv6bbccTT0fB"
      },
      "source": [
        "# Intelligent Imaging 2021 Summer Bootcamp: Day 1\n",
        "- What you will need: \n",
        "  - A google Drive account\n",
        "  - A copy of this folder in your G Drive [google drive](https://drive.google.com/drive/folders/1xxgXZt42XEexnGdKzHr69iTxE298ADIY?)\n",
        "- Some experience with python (pair up!!)"
      ]
    },
    {
      "cell_type": "markdown",
      "metadata": {
        "id": "-r7SfbbG8uq3"
      },
      "source": [
        "## Loading medical imaging data"
      ]
    },
    {
      "cell_type": "markdown",
      "metadata": {
        "id": "Tcc6pAA_8vBn"
      },
      "source": [
        "### Loading image from google Drive"
      ]
    },
    {
      "cell_type": "code",
      "metadata": {
        "id": "_jeDKsx67OHL"
      },
      "source": [
        "from google.colab import drive\n",
        "drive.mount('/content/gdrive')"
      ],
      "execution_count": null,
      "outputs": []
    },
    {
      "cell_type": "code",
      "metadata": {
        "id": "cLVF8Zhd7XKq"
      },
      "source": [
        "knee_dir = '/content/gdrive/MyDrive/intelligent_imaging_bootcamp_2021/Day_1/images/dicom/knee'\n",
        "heart_dir = '/content/gdrive/MyDrive/intelligent_imaging_bootcamp_2021/Day_1/images/nifti/Task02_Heart/imagesTr'\n",
        "chest_file =  '/content/gdrive/MyDrive/intelligent_imaging_bootcamp_2021/Day_1/images/dicom/chest-xray/1-3.dcm'\n",
        "chest_jpeg = '/content/gdrive/MyDrive/intelligent_imaging_bootcamp_2021/Day_1/images/jpeg/chest_Xray.jpg'"
      ],
      "execution_count": null,
      "outputs": []
    },
    {
      "cell_type": "markdown",
      "metadata": {
        "id": "UsMj7s2R9ebi"
      },
      "source": [
        "## Setup environment"
      ]
    },
    {
      "cell_type": "code",
      "metadata": {
        "id": "vqZLU3BX9jLa"
      },
      "source": [
        "!python -c \"import monai\" || pip install -q \"monai-weekly[itk, pillow]\"\n",
        "!pip install pydicom"
      ],
      "execution_count": null,
      "outputs": []
    },
    {
      "cell_type": "code",
      "metadata": {
        "id": "Ba_OTNxJ8ptX"
      },
      "source": [
        "# from PIL import Image\n",
        "# import tempfile\n",
        "# from monai.data import ITKReader, PILReader\n",
        "import itk\n",
        "import matplotlib.pyplot as plt\n",
        "import numpy as np\n",
        "import os\n",
        "import shutil\n"
      ],
      "execution_count": null,
      "outputs": []
    },
    {
      "cell_type": "markdown",
      "metadata": {
        "id": "XOqsI91r9owt"
      },
      "source": [
        "# Load images with default image reader\n",
        "MONAI automatically choose readers based on the supported suffixes and in below order:\n",
        "- User specified reader at runtime when call this loader.\n",
        "- Registered readers from the latest to the first in list.\n",
        "- Default readers: (nii, nii.gz -> NibabelReader), (png, jpg, bmp -> PILReader),\n",
        "  (npz, npy -> NumpyReader), (others -> ITKReader).\n"
      ]
    },
    {
      "cell_type": "markdown",
      "metadata": {
        "id": "rSwKz95gdhaU"
      },
      "source": [
        "# Loading Medical Imaging Data"
      ]
    },
    {
      "cell_type": "markdown",
      "metadata": {
        "id": "J8YEdOiMHs26"
      },
      "source": [
        "## Load dicom data\n",
        "\n",
        "For more information, see this [blog post](https://mscipio.github.io/post/read_dicom_files_in_python/)"
      ]
    },
    {
      "cell_type": "code",
      "metadata": {
        "id": "lEv4rR4yH4Qz"
      },
      "source": [
        "import pydicom as dicom\n",
        "ds = dicom.read_file(chest_file)\n",
        "ds"
      ],
      "execution_count": null,
      "outputs": []
    },
    {
      "cell_type": "code",
      "metadata": {
        "id": "34v55jipIJ_1"
      },
      "source": [
        "#to see all dicom keys available, use `dir`\n",
        "ds.dir()[:10]"
      ],
      "execution_count": null,
      "outputs": []
    },
    {
      "cell_type": "code",
      "metadata": {
        "id": "P1DLZY47IURT"
      },
      "source": [
        "#you can also search by partial key substrings\n",
        "ds.dir('pa')"
      ],
      "execution_count": null,
      "outputs": []
    },
    {
      "cell_type": "code",
      "metadata": {
        "id": "5AMkLqrBIh3D"
      },
      "source": [
        "#to get an element in the dicom file, use `data_element`\n",
        "ds.data_element(\"BodyPartExamined\")"
      ],
      "execution_count": null,
      "outputs": []
    },
    {
      "cell_type": "markdown",
      "metadata": {
        "id": "Jkgnc7K8Im6m"
      },
      "source": [
        "### Load image data"
      ]
    },
    {
      "cell_type": "code",
      "metadata": {
        "id": "_W1cIXo0V8mK"
      },
      "source": [
        "from monai.transforms import *"
      ],
      "execution_count": null,
      "outputs": []
    },
    {
      "cell_type": "code",
      "metadata": {
        "id": "pMG-rZnoV27k"
      },
      "source": [
        "!ls $knee_dir"
      ],
      "execution_count": null,
      "outputs": []
    },
    {
      "cell_type": "markdown",
      "metadata": {
        "id": "jXmxHGEFYyVi"
      },
      "source": [
        "In MONAI, images are loaded with `LoadImage()(path)` where `path` is the location of the image (if 1 image) or folder if multiple slices"
      ]
    },
    {
      "cell_type": "code",
      "metadata": {
        "id": "DUgIyqUD8px8"
      },
      "source": [
        "data, meta = LoadImage()(knee_dir)\n",
        "print(data.shape)"
      ],
      "execution_count": null,
      "outputs": []
    },
    {
      "cell_type": "code",
      "metadata": {
        "id": "qBBSSdEt8p3l"
      },
      "source": [
        "#visualize it (here, slice #12)\n",
        "slice=12\n",
        "plt.imshow(data[slice,:,:]);"
      ],
      "execution_count": null,
      "outputs": []
    },
    {
      "cell_type": "markdown",
      "metadata": {
        "id": "Zeq9Ev8W_atR"
      },
      "source": [
        "## Load nifti data\n",
        "\n",
        "What is nifti?"
      ]
    },
    {
      "cell_type": "code",
      "metadata": {
        "id": "AUusToZ-99b0"
      },
      "source": [
        "nifti_files = os.listdir(heart_dir)\n",
        "nifti_paths = [heart_dir + '/' + file for file in nifti_files]"
      ],
      "execution_count": null,
      "outputs": []
    },
    {
      "cell_type": "code",
      "metadata": {
        "id": "HLaUCuyN-Lem"
      },
      "source": [
        "data, meta = LoadImage()(nifti_paths[0])"
      ],
      "execution_count": null,
      "outputs": []
    },
    {
      "cell_type": "code",
      "metadata": {
        "id": "a3d2ynKjAQEe"
      },
      "source": [
        "data.shape"
      ],
      "execution_count": null,
      "outputs": []
    },
    {
      "cell_type": "code",
      "metadata": {
        "id": "zlIcA5AGAitg"
      },
      "source": [
        "#visualize data\n",
        "slice=60\n",
        "plt.matshow(data[:,:,slice]);"
      ],
      "execution_count": null,
      "outputs": []
    },
    {
      "cell_type": "markdown",
      "metadata": {
        "id": "rSWXDSSyJyZb"
      },
      "source": [
        "Challenge: can you rotate this image to look \"normal\"?"
      ]
    },
    {
      "cell_type": "code",
      "metadata": {
        "id": "MdUtFiN3JrPr",
        "cellView": "form"
      },
      "source": [
        "#@title\n",
        "slice=60\n",
        "plt.matshow(data[:,::-1,slice].T);"
      ],
      "execution_count": null,
      "outputs": []
    },
    {
      "cell_type": "markdown",
      "metadata": {
        "id": "j8-B083mCZ6P"
      },
      "source": [
        "## Load jpeg"
      ]
    },
    {
      "cell_type": "code",
      "metadata": {
        "id": "iKkcdtPrBs9A"
      },
      "source": [
        "data, meta = LoadImage()(chest_jpeg)"
      ],
      "execution_count": null,
      "outputs": []
    },
    {
      "cell_type": "code",
      "metadata": {
        "id": "Ei02-OjyDEna"
      },
      "source": [
        "data.shape"
      ],
      "execution_count": null,
      "outputs": []
    },
    {
      "cell_type": "code",
      "metadata": {
        "id": "Kv7MP4wQFf7g"
      },
      "source": [
        "plt.imshow(data[:,:,0])"
      ],
      "execution_count": null,
      "outputs": []
    },
    {
      "cell_type": "markdown",
      "metadata": {
        "id": "I3R7_yPWZWWg"
      },
      "source": [
        "Q: What are the 3 \"slices\" in the jpeg image?"
      ]
    },
    {
      "cell_type": "markdown",
      "metadata": {
        "id": "1v_5we5DG7Vq"
      },
      "source": [
        "# Manipulating Data\n",
        "\n",
        "MONAI uses `Transforms` to modify data. See the [Transforms Documentation Page](https://docs.monai.io/en/latest/transforms.html)"
      ]
    },
    {
      "cell_type": "markdown",
      "metadata": {
        "id": "8T4TcLIwb4Iz"
      },
      "source": [
        "If several transforms are needed, you can combine them using `Compose`.\n",
        "\n",
        "Since in general loading an image returns the image and some *metadata* associated with it, it makes sense to read the image as a dictionary so we can apply transforms only to the *image* (and not to the text).\n",
        "\n",
        "Every transform in MONAI also has a dictionary-based version to make it easier to apply a transform to a particular key only. This is also useful if you want to apply a transform to the training set but not to the test set, for instance."
      ]
    },
    {
      "cell_type": "code",
      "metadata": {
        "id": "frUSE6fUMh3_"
      },
      "source": [
        "#to load the same chest image above as a dictionary:\n",
        "LoadImaged(keys=['image'])({'image': chest_jpeg})"
      ],
      "execution_count": null,
      "outputs": []
    },
    {
      "cell_type": "markdown",
      "metadata": {
        "id": "3Yl6p-6BPeeE"
      },
      "source": [
        "### Center cropping an image with `Resized`"
      ]
    },
    {
      "cell_type": "code",
      "metadata": {
        "id": "owjivLmSHX-2"
      },
      "source": [
        "transform = Compose([\n",
        "    LoadImaged(keys=\"image\"),\n",
        "    Resized(keys=\"image\", spatial_size=[64, 64]), # this is the transform !!!\n",
        "    ToTensord(\"image\"),\n",
        "])\n",
        "test_data = {\"image\": knee_dir}\n",
        "result = transform(test_data)\n",
        "plt.imshow(result['image'][12,:,:]);"
      ],
      "execution_count": null,
      "outputs": []
    },
    {
      "cell_type": "markdown",
      "metadata": {
        "id": "GYIM_o6iPgU9"
      },
      "source": [
        "### Randomly crop an image with `RandSpatialCropd`\n",
        "Run the cell below several times and see how the solution changes."
      ]
    },
    {
      "cell_type": "code",
      "metadata": {
        "id": "_R5ttXkkG8kl"
      },
      "source": [
        "transform = Compose([\n",
        "    LoadImaged(keys=\"image\"),\n",
        "    RandSpatialCropd(keys=\"image\", roi_size=[64,64], max_roi_size=[64, 64]),\n",
        "    ToTensord(\"image\"),\n",
        "])\n",
        "test_data = {\"image\": knee_dir}\n",
        "result = transform(test_data)\n",
        "plt.imshow(result['image'][12,:,:]);"
      ],
      "execution_count": null,
      "outputs": []
    },
    {
      "cell_type": "markdown",
      "metadata": {
        "id": "oS0UYzo8SGEF"
      },
      "source": [
        "## Pad image"
      ]
    },
    {
      "cell_type": "code",
      "metadata": {
        "id": "g-s9QcYMSIOW"
      },
      "source": [
        "transform = Compose([\n",
        "    LoadImaged(keys=\"image\"),\n",
        "    SpatialPadd(keys=\"image\", spatial_size=[700, 700]),\n",
        "    ToTensord(\"image\"),\n",
        "])\n",
        "test_data = {\"image\": knee_dir}\n",
        "result = transform(test_data)\n",
        "plt.imshow(result['image'][12,:,:]);"
      ],
      "execution_count": null,
      "outputs": []
    },
    {
      "cell_type": "markdown",
      "metadata": {
        "id": "ke-U24P1QsJ6"
      },
      "source": [
        "## Normalizing data\n",
        "- Mean = 0.0\n",
        "- Standard deviation = 1.0"
      ]
    },
    {
      "cell_type": "code",
      "metadata": {
        "id": "ugi_jjyeM3LH"
      },
      "source": [
        "transform = Compose([\n",
        "    LoadImaged(keys=\"image\"),\n",
        "    Resized(keys=\"image\", spatial_size=[64, 64]),\n",
        "    NormalizeIntensityd(keys=\"image\"),\n",
        "    ToTensord(\"image\"),\n",
        "])\n",
        "test_data = {\"image\": knee_dir}\n",
        "result = transform(test_data)\n",
        "plt.imshow(result['image'][12,:,:]);"
      ],
      "execution_count": null,
      "outputs": []
    },
    {
      "cell_type": "markdown",
      "metadata": {
        "id": "j2eENdXGRdIF"
      },
      "source": [
        "Q: Can you use `ThresholdIntensityd` to threshold the normalized image?"
      ]
    },
    {
      "cell_type": "code",
      "metadata": {
        "cellView": "form",
        "id": "5gs19_V4P2LE"
      },
      "source": [
        "#@title\n",
        "transform = Compose([\n",
        "    LoadImaged(keys=\"image\"),\n",
        "    Resized(keys=\"image\", spatial_size=[64, 64]),\n",
        "    NormalizeIntensityd(keys=\"image\"),\n",
        "    ThresholdIntensityd(keys=\"image\", threshold=1.0),\n",
        "    ToTensord(\"image\"),\n",
        "])\n",
        "test_data = {\"image\": knee_dir}\n",
        "result = transform(test_data)\n",
        "plt.imshow(result['image'][12,:,:]);"
      ],
      "execution_count": null,
      "outputs": []
    },
    {
      "cell_type": "markdown",
      "metadata": {
        "id": "Tt7XjpH_ozUt"
      },
      "source": [
        "# Break out session\n",
        "- Load Brain data\n",
        "- For Training data:\n",
        "   - Normalize\n",
        "   - Augment: crop, flip, rotate\n",
        "-  "
      ]
    },
    {
      "cell_type": "code",
      "metadata": {
        "id": "Y-fW1c46pGvL"
      },
      "source": [
        ""
      ],
      "execution_count": null,
      "outputs": []
    }
  ]
}